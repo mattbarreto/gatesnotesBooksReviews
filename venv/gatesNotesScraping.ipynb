{
 "cells": [
  {
   "cell_type": "code",
   "execution_count": 1,
   "metadata": {},
   "outputs": [],
   "source": [
    "import pandas as pd"
   ]
  },
  {
   "cell_type": "code",
   "execution_count": 2,
   "metadata": {},
   "outputs": [],
   "source": [
    "\n",
    "from selenium import webdriver\n",
    "from selenium.webdriver.chrome.service import Service\n",
    "\n",
    "website = 'https://www.gatesnotes.com/Books#AllReviews'\n",
    "path = '/run/media/matt/WD_Externo/Scripts/Python/FreeCodeCamp/Automatizacion/chromedriver'\n",
    "\n",
    "service = Service(executable_path=path)\n",
    "driver = webdriver.Chrome(service=service)\n",
    "driver.get(website)\n",
    "\n",
    "resenas = driver.find_elements(by=\"xpath\", value=\".//div[@class='TGN_site_ArticleItemSearchThumb']\")\n",
    "\n",
    "lista_resenas = []\n",
    "\n",
    "for item in resenas: \n",
    "    titulo = item.find_element(by=\"xpath\", value=\".//div[@class='TGN_site_ArticleItemtitle']\").text\n",
    "    bajada = item.find_element(by=\"xpath\", value=\".//div[@class='TGN_site_ArticleItemdescription']\").text\n",
    "    link = item.find_element(by=\"xpath\", value=\"./a\").get_attribute('href')\n",
    "    resenas_items = {'titulo': titulo, 'bajada': bajada, 'link': link}\n",
    "    \n",
    "    lista_resenas.append(resenas_items)\n",
    "\n",
    "gates_notes = pd.DataFrame(lista_resenas)\n",
    "gates_notes.to_html('gates_notes.html')\n",
    "\n",
    "driver.quit()"
   ]
  },
  {
   "cell_type": "code",
   "execution_count": 4,
   "metadata": {},
   "outputs": [],
   "source": [
    "from selenium import webdriver\n",
    "from selenium.webdriver.chrome.options import Options\n",
    "from selenium.webdriver.chrome.service import Service\n",
    "\n",
    "website = 'https://www.gatesnotes.com/Books#AllReviews'\n",
    "path = '/run/media/matt/WD_Externo/Scripts/Python/FreeCodeCamp/Automatizacion/chromedriver'\n",
    "\n",
    "options = Options()\n",
    "options.headless = True\n",
    "\n",
    "service = Service(executable_path=path)\n",
    "driver = webdriver.Chrome(service=service, options=options)\n",
    "driver.get(website)\n",
    "\n",
    "resenas = driver.find_elements(by=\"xpath\", value=\".//div[@class='TGN_site_ArticleItemSearchThumb']\")\n",
    "\n",
    "lista_resenas = []\n",
    "\n",
    "for item in resenas: \n",
    "    titulo = item.find_element(by=\"xpath\", value=\".//div[@class='TGN_site_ArticleItemtitle']\").text\n",
    "    bajada = item.find_element(by=\"xpath\", value=\".//div[@class='TGN_site_ArticleItemdescription']\").text\n",
    "    link = item.find_element(by=\"xpath\", value=\"./a\").get_attribute('href')\n",
    "    resenas_items = {'titulo': titulo, 'bajada': bajada, 'link': link}\n",
    "    \n",
    "    lista_resenas.append(resenas_items)\n",
    "\n",
    "gates_notes = pd.DataFrame(lista_resenas)\n",
    "gates_notes.to_excel('gates_notes_headless001.xlsx')\n",
    "\n",
    "driver.quit()"
   ]
  },
  {
   "cell_type": "code",
   "execution_count": null,
   "metadata": {},
   "outputs": [],
   "source": [
    "from selenium import webdriver\n",
    "from selenium.webdriver.chrome.options import Options\n",
    "from selenium.webdriver.chrome.service import Service\n",
    "\n",
    "import pandas as pd\n",
    "\n",
    "from datetime import datetime\n",
    "import os\n",
    "import sys\n",
    "\n",
    "gates_notes_app = os.path.dirname(sys.executable)\n",
    "\n",
    "now = datetime.now()\n",
    "fecha = now.strftime('%-d%B%Y')\n",
    "\n",
    "#DDMMYYYY\n",
    "\n",
    "website = 'https://www.gatesnotes.com/Books#AllReviews'\n",
    "path = '/run/media/matt/WD_Externo/Scripts/Python/FreeCodeCamp/Automatizacion/chromedriver'\n",
    "\n",
    "options = Options()\n",
    "options.headless = True\n",
    "\n",
    "service = Service(executable_path=path)\n",
    "driver = webdriver.Chrome(service=service, options=options)\n",
    "driver.get(website)\n",
    "\n",
    "resenas = driver.find_elements(by=\"xpath\", value=\".//div[@class='TGN_site_ArticleItemSearchThumb']\")\n",
    "\n",
    "lista_resenas = []\n",
    "\n",
    "for item in resenas: \n",
    "    titulo = item.find_element(by=\"xpath\", value=\".//div[@class='TGN_site_ArticleItemtitle']\").text\n",
    "    bajada = item.find_element(by=\"xpath\", value=\".//div[@class='TGN_site_ArticleItemdescription']\").text\n",
    "    link = item.find_element(by=\"xpath\", value=\"./a\").get_attribute('href')\n",
    "    resenas_items = {'titulo': titulo, 'bajada': bajada, 'link': link}\n",
    "    \n",
    "    lista_resenas.append(resenas_items)\n",
    "\n",
    "\n",
    "gates_notes = pd.DataFrame(lista_resenas)\n",
    "file_name = f'{gates_notes_app}/gates_notes_{fecha}.html'\n",
    "\n",
    "final_path = os.path.join(gates_notes_app, file_name)\n",
    "\n",
    "gates_notes.to_html(final_path)\n",
    "\n",
    "driver.quit()"
   ]
  }
 ],
 "metadata": {
  "kernelspec": {
   "display_name": "Python 3.10.5 64-bit",
   "language": "python",
   "name": "python3"
  },
  "language_info": {
   "codemirror_mode": {
    "name": "ipython",
    "version": 3
   },
   "file_extension": ".py",
   "mimetype": "text/x-python",
   "name": "python",
   "nbconvert_exporter": "python",
   "pygments_lexer": "ipython3",
   "version": "3.10.5"
  },
  "orig_nbformat": 4,
  "vscode": {
   "interpreter": {
    "hash": "e7370f93d1d0cde622a1f8e1c04877d8463912d04d973331ad4851f04de6915a"
   }
  }
 },
 "nbformat": 4,
 "nbformat_minor": 2
}
